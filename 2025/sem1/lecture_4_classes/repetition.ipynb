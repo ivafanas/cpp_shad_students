{
 "cells": [
  {
   "cell_type": "markdown",
   "metadata": {},
   "source": [
    " __Вопросы для повторения:__\n",
    "\n",
    "* Что такое RAII? Примеры?\n",
    "* Какие конструкторы мы рассматривали на прошлой лекции?\n",
    "* Когда вызвается деструктор\n",
    "  * если объект живёт на стеке?\n",
    "  * если объект живёт в куче?\n",
    "* Что такое \"правило шести\"?\n",
    "* Как работают автогенерированные операции?\n",
    "* Когда следует избежать автогенерированных операций?\n",
    "* Какая здесь проблема?\n",
    "\n",
    "```c++\n",
    "void func()\n",
    "{\n",
    "    std::vector<std::string*> names = {\n",
    "        new std::string(\"Dobrynia\"),\n",
    "        new std::string(\"Ilusha\"),\n",
    "        new std::string(\"Alesha\")\n",
    "    };\n",
    "    \n",
    "    std::cout << *names[0];\n",
    "}\n",
    "```"
   ]
  }
 ],
 "metadata": {
  "kernelspec": {
   "display_name": "Python 3 (ipykernel)",
   "language": "python",
   "name": "python3"
  },
  "language_info": {
   "codemirror_mode": {
    "name": "ipython",
    "version": 3
   },
   "file_extension": ".py",
   "mimetype": "text/x-python",
   "name": "python",
   "nbconvert_exporter": "python",
   "pygments_lexer": "ipython3",
   "version": "3.12.3"
  }
 },
 "nbformat": 4,
 "nbformat_minor": 4
}
