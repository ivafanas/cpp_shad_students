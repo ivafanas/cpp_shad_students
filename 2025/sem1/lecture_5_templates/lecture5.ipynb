{
 "cells": [
  {
   "cell_type": "markdown",
   "metadata": {},
   "source": [
    "### Лекция 5. Шаблоны"
   ]
  },
  {
   "cell_type": "markdown",
   "metadata": {},
   "source": [
    "<br />"
   ]
  },
  {
   "cell_type": "markdown",
   "metadata": {},
   "source": [
    "##### Какая идея стоит за шаблонами"
   ]
  },
  {
   "cell_type": "markdown",
   "metadata": {},
   "source": [
    "Ранее мы познакомились с возможностью перегрузки функций. Давайте вспомним её на примере swap:"
   ]
  },
  {
   "cell_type": "markdown",
   "metadata": {},
   "source": [
    "```c++\n",
    "// поменять местами два int\n",
    "void my_swap(int& a, int& b)\n",
    "{\n",
    "    int tmp = a;\n",
    "    a = b;\n",
    "    b = tmp;    \n",
    "}\n",
    "\n",
    "// поменять местами два short\n",
    "void my_swap(short& a, short& b)\n",
    "{\n",
    "    short tmp = a;\n",
    "    a = b;\n",
    "    b = tmp;\n",
    "}\n",
    "\n",
    "// поменять местами два float\n",
    "void my_swap(float& a, float& b)\n",
    "{\n",
    "    float tmp = a;\n",
    "    a = b;\n",
    "    b = tmp;\n",
    "}\n",
    "\n",
    "...\n",
    "```"
   ]
  },
  {
   "cell_type": "markdown",
   "metadata": {},
   "source": [
    "Вечер начинает быть томным ..."
   ]
  },
  {
   "cell_type": "markdown",
   "metadata": {},
   "source": [
    "Для решения проблем дублирования кода придуманы шаблоны:"
   ]
  },
  {
   "cell_type": "markdown",
   "metadata": {},
   "source": [
    "```c++\n",
    "// напишем шаблон - как должна выглядеть функция\n",
    "template<typename T>\n",
    "void my_swap(T& a, T& b)\n",
    "{\n",
    "    T tmp = a;\n",
    "    a = b;\n",
    "    b = tmp;\n",
    "}\n",
    "```"
   ]
  },
  {
   "cell_type": "markdown",
   "metadata": {},
   "source": [
    "Применение шаблона:"
   ]
  },
  {
   "cell_type": "markdown",
   "metadata": {},
   "source": [
    "```c++\n",
    "int a = 3, b = 5;\n",
    "\n",
    "// вызов my_swap(int&, int&), тип T указывается программистом явно\n",
    "my_swap<int>(a, b);\n",
    "\n",
    "// вызов my_swap(int&, int&), тип T выводится компилятором автоматически\n",
    "my_swap(a, b); \n",
    "\n",
    "\n",
    "float x = 3.f, y = 5.f;\n",
    "my_swap(x, y);\n",
    "my_swap<float>(x, y);\n",
    "```"
   ]
  },
  {
   "cell_type": "markdown",
   "metadata": {},
   "source": [
    "[cppinsights](https://cppinsights.io/s/c3c8d9f3)"
   ]
  },
  {
   "cell_type": "markdown",
   "metadata": {},
   "source": [
    "* Процесс замены параметров шаблона конкретными типами называется **инстанцированием** шаблона\n",
    "\n",
    "* Процесс инстанцирования запускается при использовании шаблона функции. Такое инстанцирование называется **неявным**"
   ]
  },
  {
   "cell_type": "markdown",
   "metadata": {},
   "source": [
    "Важное свойство шаблонов по сравнению с перегрузкой функций:\n",
    "* шаблон компилируется только тогда, когда он вызывается\n",
    "* шаблон компилируется только для тех типов, для которых он вызывается.\n",
    "\n",
    "_и в каждом cpp-файле шаблон компилируется снова и снова_\n",
    "\n",
    "Показать пример на [godbolt.org](https://godbolt.org/z/bbdobq314), позакомментировать функции, продемонстрировать разницу в выхлопе компилятора."
   ]
  },
  {
   "cell_type": "markdown",
   "metadata": {},
   "source": [
    "```c++\n",
    "#include <string>\n",
    "\n",
    "template<typename T>\n",
    "void __attribute__ ((noinline)) myswap(T& a, T& b)\n",
    "{\n",
    "    T tmp = a;\n",
    "    a = b;\n",
    "    b = tmp;\n",
    "}\n",
    "\n",
    "int main()\n",
    "{\n",
    "    int i1 = 3, i2 = 5;\n",
    "    myswap(i1, i2);\n",
    "\n",
    "    float f1 = 3.f, f2 = 5.f;\n",
    "    myswap(f1, f2);\n",
    "\n",
    "    double d1 = 3., d2 = 5.;\n",
    "    myswap(d1, d2);\n",
    "\n",
    "    std::string s1 = \"abc\", s2 = \"def\";\n",
    "    myswap(s1, s2);\n",
    "\n",
    "    return 0;\n",
    "}\n",
    "```"
   ]
  },
  {
   "cell_type": "markdown",
   "metadata": {},
   "source": [
    "Особенности шаблонов по сравнению с перегруженными функциями:\n",
    "* компилируется только то, что инстанциируется в коде\n",
    "* компилируется столько раз, в скольки единицах трансляции инстанциируется:\n",
    "    * можно в одном cpp-файле 10 раз позвать myswap(int&, int&) - эта функция скомпилируется единожды\n",
    "    * можно в 10 cpp-файлах один раз позвать myswap(int&, int&) - эта функция скомпилируется 10 раз\n",
    "* накладные расходы во время компиляции на кодогенерацию при истанциации\n",
    "* позволяет компилятору агрессивнее оптимизировать. Раскомментировать `__attribute__((noinline))` из примера и показать какой код сгенерирует компилятор. Объяснить, почему.\n",
    "* позволяет нарушать ODR"
   ]
  },
  {
   "cell_type": "markdown",
   "metadata": {},
   "source": [
    "Коротко:\n",
    "\n",
    "* (+) меньше кода\n",
    "* (+) быстрее\n",
    "* (-) дольше компилируется\n",
    "* (-) сложнее писать"
   ]
  },
  {
   "cell_type": "markdown",
   "metadata": {},
   "source": [
    "__Вопросы__:\n",
    "* Где поместить шаблонную функцию, которую нужно использовать в разных cpp-файлах?\n",
    "* Где поместить её реализацию?\n",
    "* Может ли шаблонная функция содержать некомпилирующийся код?"
   ]
  },
  {
   "cell_type": "markdown",
   "metadata": {},
   "source": [
    "<br />"
   ]
  },
  {
   "cell_type": "markdown",
   "metadata": {},
   "source": [
    "##### Специализация типа"
   ]
  },
  {
   "cell_type": "markdown",
   "metadata": {},
   "source": [
    "Перегрузка функций позволяла сделать `myswap` у `std::string` более эффективно, без лишнего копирования памяти:"
   ]
  },
  {
   "cell_type": "markdown",
   "metadata": {},
   "source": [
    "```c++\n",
    "void myswap(int& a, int& b) { ... }\n",
    "void myswap(short& a, short& b) { ... }\n",
    "\n",
    "void myswap(std::string& a, std::string& b)\n",
    "{\n",
    "    a.swap(b);\n",
    "}\n",
    "```"
   ]
  },
  {
   "cell_type": "markdown",
   "metadata": {},
   "source": [
    "Шаблоны тоже позволяют специализировать поведение функций, если наложить на шаблонный параметр ограничение. В таком случае будем называть это **явным инстанцированием** шаблона. Например:\n",
    "\n",
    "(закинуть этот код на godbolt, показать во что компилируется программа)\n",
    "\n",
    "[cppinsights](https://cppinsights.io/s/1885fe5c)\n",
    "\n",
    "[godbolt](https://godbolt.org/z/qdzxMheY6)"
   ]
  },
  {
   "cell_type": "markdown",
   "metadata": {},
   "source": [
    "```c++\n",
    "#include <string>\n",
    "\n",
    "template<typename T>\n",
    "void __attribute__ ((noinline)) myswap(T& a, T& b)\n",
    "{\n",
    "    T tmp = a;\n",
    "    a = b;\n",
    "    b = tmp;\n",
    "}\n",
    "\n",
    "template<>\n",
    "void __attribute__ ((noinline)) myswap<std::string>(std::string& a, std::string& b)\n",
    "{\n",
    "    a.swap(b);\n",
    "}\n",
    "\n",
    "int main()\n",
    "{\n",
    "    int i1 = 3, i2 = 5;\n",
    "    myswap(i1, i2);\n",
    "\n",
    "    float f1 = 3.f, f2 = 5.f;\n",
    "    myswap(f1, f2);\n",
    "\n",
    "    double d1 = 3., d2 = 5.;\n",
    "    myswap(d1, d2);\n",
    "\n",
    "    std::string s1 = \"abc\", s2 = \"def\";\n",
    "    myswap(s1, s2);\n",
    "\n",
    "    return 0;\n",
    "}\n",
    "```"
   ]
  },
  {
   "cell_type": "markdown",
   "metadata": {},
   "source": [
    "**Вопрос:** Что произойдёт, если мы неявно инстанцируем шаблон для параметра T, а потом сделаем специализацию для него?\n",
    "\n",
    "```c++\n",
    "#include <string>\n",
    "\n",
    "template <typename T>\n",
    "void myswap(T& lhs, T& rhs) {\n",
    "    T tmp = lhs;\n",
    "    lhs = rhs;\n",
    "    rhs = tmp;\n",
    "}\n",
    "\n",
    "void foo(std::string& str1, std::string& str2) {\n",
    "    // Какой-то код работы над строками\n",
    "    myswap(str1, str2);\n",
    "    // дальше какой-то код\n",
    "}\n",
    "\n",
    "template <>\n",
    "void myswap(std::string& str1, std::string& str2) {\n",
    "    str1.swap(str2);\n",
    "}\n",
    "\n",
    "int main() {\n",
    "    std::string str1 = \"str1\";\n",
    "    std::string str2 = \"str2\";\n",
    "    foo(str1, str2);\n",
    "    myswap(str1, str2);\n",
    "}\n",
    "```"
   ]
  },
  {
   "cell_type": "markdown",
   "metadata": {},
   "source": [
    "##### Non type template parameter (NTTP)"
   ]
  },
  {
   "cell_type": "markdown",
   "metadata": {},
   "source": [
    "Во-первых, шаблон может иметь несколько параметров, а во-вторых, параметры не обязаны быть типами. Они могут быть, например, целыми числами:"
   ]
  },
  {
   "cell_type": "markdown",
   "metadata": {},
   "source": [
    "```c++\n",
    "template<int N, typename T>\n",
    "T add_value(T x)\n",
    "{\n",
    "    return x + N;\n",
    "}\n",
    "\n",
    "int a = add_value<5, int>(100);\n",
    "int a = add_value<5>(100);\n",
    "\n",
    "// 1. шаблон специализирован программистом частично, тип Т компилятор определит сам\n",
    "// 2. параметром шаблона выступает целое число.\n",
    "```"
   ]
  },
  {
   "cell_type": "markdown",
   "metadata": {},
   "source": [
    "__Вопрос__: Какую информацию здесь компилятор использует, чтобы вывести тип `T`?\n",
    "\n",
    "__Вопрос__: Встречались ли вам где-нибудь целые числа в качестве шаблонного параметра?\n",
    "\n",
    "[cppreference](https://en.cppreference.com/w/cpp/container/array.html)"
   ]
  },
  {
   "cell_type": "markdown",
   "metadata": {},
   "source": [
    "<br />"
   ]
  },
  {
   "cell_type": "markdown",
   "metadata": {},
   "source": [
    "##### Специализация значения"
   ]
  },
  {
   "cell_type": "markdown",
   "metadata": {},
   "source": [
    "Если параметром шаблона является литерал, можно специализировать шаблон для разных значений литерала.\n",
    "\n",
    "```c++\n",
    "template <int N>\n",
    "int fib() {\n",
    "  return fib<N - 1>() + fib<N - 2>();\n",
    "}\n",
    "\n",
    "template <>\n",
    "int fib<0>() {\n",
    "  return 1;\n",
    "}\n",
    "\n",
    "template <>\n",
    "int fib<1>() {\n",
    "  return 1;\n",
    "}\n",
    "\n",
    "int main() {\n",
    "   auto fib5 = fib<5>();\n",
    "   return 0;\n",
    "}\n",
    "```\n",
    "\n",
    "__Вопрос__: Страдает ли компилятор от комбинаторного взрыва?\n",
    "\n",
    "__Вопрос__: Есть ли в вычислениях комбинаторный взрыв?\n",
    "\n",
    "[cppinsigth](https://cppinsights.io/s/34b5ac78)"
   ]
  },
  {
   "cell_type": "markdown",
   "metadata": {},
   "source": [
    "<br />"
   ]
  },
  {
   "cell_type": "markdown",
   "metadata": {},
   "source": [
    "##### Шаблонные классы"
   ]
  },
  {
   "cell_type": "markdown",
   "metadata": {},
   "source": [
    "Аналогично функциям, классы тоже могут быть шаблонными:"
   ]
  },
  {
   "cell_type": "markdown",
   "metadata": {},
   "source": [
    "Пример структуры:"
   ]
  },
  {
   "cell_type": "markdown",
   "metadata": {},
   "source": [
    "```c++\n",
    "// N-мерный вектор из курса линейной алгебры типа T\n",
    "template<typename T, int N>\n",
    "struct VectorN\n",
    "{\n",
    "    T data[N];\n",
    "};\n",
    "\n",
    "// в качестве примера запишем операции сложения и умножения для таких векторов\n",
    "\n",
    "template<typename T, int N>\n",
    "VectorN<T, N> operator +(const VectorN<T, N>& l, const VectorN<T, N>& r)\n",
    "{\n",
    "    VectorN<T, N> rv;\n",
    "    for (int i = 0; i < N; ++i)\n",
    "        rv.data[i] = l.data[i] + r.data[i];\n",
    "    return rv;    \n",
    "}\n",
    "\n",
    "template<typename T, int N>\n",
    "T operator * (const VectorN<T, N>& l, const VectorN<T, N>& r)\n",
    "{\n",
    "    T rv = 0;\n",
    "    for (int i = 0; i < N; ++i)\n",
    "        rv += l.data[i] * r.data[i];\n",
    "    return rv;\n",
    "}\n",
    "```"
   ]
  },
  {
   "cell_type": "markdown",
   "metadata": {},
   "source": [
    "Пример шаблонного класса:"
   ]
  },
  {
   "cell_type": "markdown",
   "metadata": {},
   "source": [
    "Напишем свой собственный `optional`. Он будет не так хорош, как `std::optional`, потому что мы не знаем пока всех необходимых трюков С++, но для начала пойдёт."
   ]
  },
  {
   "cell_type": "markdown",
   "metadata": {},
   "source": [
    "Идея `optional` - класс-обёртка над значением, которое может отсутствовать.\n",
    "\n",
    "Для начала объявим шаблонный класс:\n",
    "\n",
    "```c++\n",
    "template<typename T>\n",
    "class Optional {\n",
    "    ...\n",
    "};\n",
    "```"
   ]
  },
  {
   "cell_type": "markdown",
   "metadata": {},
   "source": [
    "Добавим в класс поля:\n",
    "\n",
    "```c++\n",
    "template<typename T>\n",
    "class Optional {\n",
    "    \n",
    "private:\n",
    "    T value_;\n",
    "    bool has_value_;\n",
    "    \n",
    "    ...\n",
    "};\n",
    "```\n",
    "\n",
    "**Вопрос:** Мы выбрали способ хранения объекта как поле класса, потому что так проще для демонстрации. Какие у него недостатки? Как их обойти?\n",
    "\n",
    "<details>\n",
    "<summary>Ответ</summary>\n",
    "\n",
    "* Недостаток - объект существует даже когда он не нужен\n",
    "* Вариант обхода 1 - хранить объект в куче через new. Проблема: расходы на new/delete.\n",
    "* Вариант обхода 2 - кусок сырой памяти под объект + placement new и ручной вызов деструкторов (трюк в std::optional)\n",
    "\n",
    "</details>"
   ]
  },
  {
   "cell_type": "markdown",
   "metadata": {},
   "source": [
    "Добавим конструкторы:\n",
    "    \n",
    "```c++\n",
    "template<typename T>\n",
    "class Optional {\n",
    "    ...\n",
    "        \n",
    "public:\n",
    "    Optional()\n",
    "        : has_value_(false)\n",
    "    {}\n",
    "        \n",
    "    Optional(const T& another_value)\n",
    "        : value_(another_value)\n",
    "        , has_value_(true)\n",
    "    {}   \n",
    "};\n",
    "\n",
    "//\n",
    "// usage:\n",
    "//\n",
    "Optional<std::string> maybe_string_1;\n",
    "Optional<std::string> maybe_string_2(\"hello world\");\n",
    "```\n",
    "\n",
    "**Вопрос:** Почему `const &` у `another_value` ?\n",
    "\n",
    "**Вопрос:** Что мы должны срочно добавить в класс?"
   ]
  },
  {
   "cell_type": "markdown",
   "metadata": {},
   "source": [
    "Срочно добавим:\n",
    "\n",
    "\n",
    "```c++\n",
    "template<typename T>\n",
    "class Optional {\n",
    "    ...\n",
    "\n",
    "public:\n",
    "    Optional(const Optional&) = default;\n",
    "    Optional(Optional&&) = default;\n",
    "    Optional& operator = (const Optional&) = default;\n",
    "    Optional& operator = (Optional&&) = default;\n",
    "    ~Optional() = default;\n",
    "};\n",
    "\n",
    "//\n",
    "// usage:\n",
    "//\n",
    "Optional<std::string> maybe_string_1(\"hello world\");\n",
    "Optional<std::string> maybe_string_2 = maybe_string_1;\n",
    "Optional<std::string> maybe_string_3 = std::move(maybe_string_1);\n",
    "```"
   ]
  },
  {
   "cell_type": "markdown",
   "metadata": {},
   "source": [
    "Добавим немного функционала:\n",
    "\n",
    "```c++\n",
    "template<typename T>\n",
    "class Optional {\n",
    "    ...\n",
    "        \n",
    "public:\n",
    "    bool has_value() const { return has_value_; }\n",
    "    \n",
    "    T&       get_value()       { return value_; }\n",
    "    const T& get_value() const { return value_; }\n",
    "    \n",
    "    T*       get_ptr()       { return has_value_ ? &value_ : nullptr; }    \n",
    "    const T* get_ptr() const { return has_value_ ? &value_ : nullptr; }\n",
    "    \n",
    "    void reset() {\n",
    "        value_ = T();\n",
    "        has_value_ = false;\n",
    "    }\n",
    "\n",
    "    void reset(const T& another_value) {\n",
    "        value_ = another_value;\n",
    "        has_value_ = true;\n",
    "    }\n",
    "    \n",
    "    void emplace() {\n",
    "        value_ = T();\n",
    "        has_value_ = true;\n",
    "    }\n",
    "};\n",
    "\n",
    "//\n",
    "// usage:\n",
    "//\n",
    "Optional<std::string> maybe_string_1(\"hello world\");\n",
    "\n",
    "if (maybe_string_1.has_value())\n",
    "    std::cout << maybe_string_1.get_value() << std::endl;\n",
    "\n",
    "if (std::string* s = maybe_string_1.get_ptr())\n",
    "    std::cout << *s << std::endl;\n",
    "\n",
    "maybe_string_1.reset();\n",
    "\n",
    "maybe_string_1.emplace();\n",
    "```"
   ]
  },
  {
   "cell_type": "markdown",
   "metadata": {},
   "source": [
    "Добавим операторы сравнения:\n",
    "    \n",
    "```c++\n",
    "template<typename T>\n",
    "class Optional { ... };\n",
    "\n",
    "template<typename T>\n",
    "bool operator == (const Optional<T>& lhs, const Optional<T>& rhs) {\n",
    "    if (!lhs.has_value())\n",
    "        return !rhs.has_value();\n",
    "    \n",
    "    if (!rhs.has_value())\n",
    "        return false;\n",
    "    \n",
    "    return lhs.get_value() == rhs.get_value();    \n",
    "}\n",
    "\n",
    "template<typename T>\n",
    "bool operator != (const Optional<T>& lhs, const Optional<T>& rhs) {\n",
    "    return !(lhs == rhs);\n",
    "}\n",
    "\n",
    "template<typename T>\n",
    "bool operator == (const Optional<T>& lhs, const T& rhs) {\n",
    "    return\n",
    "        lhs.has_value() &&\n",
    "        lhs.get_value() == rhs;\n",
    "}\n",
    "\n",
    "template<typename T>\n",
    "bool operator == (const T& lhs, const Optional<T>& rhs) {\n",
    "    return rhs == lhs;\n",
    "}\n",
    "\n",
    "template<typename T>\n",
    "bool operator != (const Optional<T>& lhs, const T& rhs) {\n",
    "    return !(lhs == rhs);\n",
    "}\n",
    "\n",
    "template<typename T>\n",
    "bool operator != (const T& lhs, const Optional<T>& rhs) {\n",
    "    return !(lhs == rhs);\n",
    "}\n",
    "\n",
    "\n",
    "\n",
    "//\n",
    "// usage:\n",
    "//\n",
    "Optional<std::string> maybe_string_1(\"hello world\");\n",
    "Optional<std::string> maybe_string_2 = maybe_string_1;\n",
    "\n",
    "if (maybe_string_1 != maybe_string_2)\n",
    "    std::cout << \"unreachable!\" << std::endl;\n",
    "\n",
    "Optional<int> maybe_int;\n",
    "\n",
    "if (maybe_string_1 == maybe_int)  // compile-time error!\n",
    "    std::cout << \"unreachable!\" << std::endl;\n",
    "```"
   ]
  },
  {
   "cell_type": "markdown",
   "metadata": {},
   "source": [
    "**Вопрос:** какая проблема в этом коде?\n",
    "\n",
    "```c++\n",
    "Optional<std::string> maybe_string(\"hello world\");\n",
    "\n",
    "if (maybe_string == \"C++ is designed for faster code\")\n",
    "    std::cout << \"Fast enough?\" << std::endl;\n",
    "```"
   ]
  },
  {
   "cell_type": "markdown",
   "metadata": {},
   "source": [
    "Решим эту проблему, добавим ещё один более хитрый оператор сравнения:\n",
    "    \n",
    "```c++\n",
    "\n",
    "template<typename T, typename U>\n",
    "bool operator == (const Optional<T>& lhs, const U& rhs) {\n",
    "    return\n",
    "        lhs.has_value() &&\n",
    "        lhs.get_value() == rhs;\n",
    "}\n",
    "\n",
    "template<typename T, typename U>\n",
    "bool operator == (const T& lhs, const Optional<U>& rhs) {\n",
    "    return rhs == lhs;\n",
    "}\n",
    "\n",
    "template<typename T, typename U>\n",
    "bool operator != (const Optional<T>& lhs, const U& rhs) {\n",
    "    return !(lhs == rhs);\n",
    "}\n",
    "\n",
    "template<typename T, typename U>\n",
    "bool operator != (const T& lhs, const Optional<U>& rhs) {\n",
    "    return !(rhs == lhs);\n",
    "}\n",
    "\n",
    "//\n",
    "// usage:\n",
    "//\n",
    "\n",
    "Optional<std::string> maybe_string_1(\"hello world\");\n",
    "\n",
    "if (maybe_string == \"C++ is designed for faster code\")\n",
    "    std::cout << \"Fast enough?\" << std::endl;\n",
    "```"
   ]
  },
  {
   "cell_type": "markdown",
   "metadata": {},
   "source": [
    "Чтобы не было скучно, добавим в шаблонный класс шаблонный метод.\n",
    "\n",
    "\n",
    "```c++\n",
    "template<typename T>\n",
    "class Optional {\n",
    "    ...\n",
    "\n",
    "public:\n",
    "    // уже было\n",
    "    void emplace(const T& another_value) {\n",
    "        value_ = another_value;\n",
    "        has_value_ = true;\n",
    "    }\n",
    "    \n",
    "    // добавили\n",
    "    template<typename U>\n",
    "    void emplace(const U& source) {\n",
    "        value_ = source;\n",
    "        has_value_ = true;\n",
    "    }\n",
    "    private:\n",
    "    T value_;\n",
    "    bool has_value_;\n",
    "};\n",
    "\n",
    "//\n",
    "// usage:\n",
    "//\n",
    "Optional<std::string> maybe_string;\n",
    "maybe_string.emplace(\"hello world\");\n",
    "```\n",
    "\n",
    "**Вопрос:** Что поменялось при вызове `emplace`?"
   ]
  },
  {
   "cell_type": "markdown",
   "metadata": {},
   "source": [
    "Самое время добавить в класс шаблонный конструктор!\n",
    "\n",
    "```c++\n",
    "template<typename T>\n",
    "class Optional {\n",
    "    ...\n",
    "        \n",
    "public:\n",
    "    // уже было\n",
    "    Optional(const T& another_value)\n",
    "        : value_(another_value)\n",
    "        , has_value_(true)\n",
    "    {}\n",
    "\n",
    "    // добавили\n",
    "    template<typename U>\n",
    "    Optional(const U& source)\n",
    "        : value_(source)\n",
    "        , has_value_(true)\n",
    "    {}\n",
    "};\n",
    "\n",
    "//\n",
    "// usage:\n",
    "//\n",
    "Optional<std::string> maybe_string(\"hello world\");\n",
    "```\n",
    "\n",
    "**Вопрос:** Что поменялось в вызове конструктора от `const char*` ?\n",
    "\n",
    "**Вопрос:** Можем ли мы что-нибудь выиграть от шаблонного деструктора ?"
   ]
  },
  {
   "cell_type": "markdown",
   "metadata": {},
   "source": [
    "<br />"
   ]
  },
  {
   "cell_type": "markdown",
   "metadata": {},
   "source": [
    "Пример целиком без операторов. Закинуть на godbolt, показать сколько каких методов генерируется, не забыть убрать оптимизации и demangle.\n",
    "\n",
    "```c++\n",
    "#include <string>\n",
    "\n",
    "template<typename T>\n",
    "class Optional {\n",
    "private:\n",
    "    T value_;\n",
    "    bool has_value_;\n",
    "\n",
    "public:\n",
    "    Optional()\n",
    "        : has_value_(false)\n",
    "    {}\n",
    "\n",
    "    Optional(const T& another_value)\n",
    "        : value_(another_value)\n",
    "        , has_value_(true)\n",
    "    {}\n",
    "\n",
    "    template<typename U>\n",
    "    Optional(const U& source)\n",
    "        : value_(source)\n",
    "        , has_value_(true)\n",
    "    {}\n",
    "\n",
    "    Optional(const Optional&) = default;\n",
    "    Optional(Optional&&) = default;\n",
    "    Optional& operator = (const Optional&) = default;\n",
    "    Optional& operator = (Optional&&) = default;\n",
    "    ~Optional() = default;\n",
    "\n",
    "    bool has_value() const { return has_value_; }\n",
    "\n",
    "    T&       get_value()       { return value_; }\n",
    "    const T& get_value() const { return value_; }\n",
    "\n",
    "    T*       get_ptr()       { return has_value_ ? &value_ : nullptr; }    \n",
    "    const T* get_ptr() const { return has_value_ ? &value_ : nullptr; }\n",
    "\n",
    "    void reset() {\n",
    "        value_ = T();\n",
    "        has_value_ = false;\n",
    "    }\n",
    "\n",
    "    void reset(const T& another_value) {\n",
    "        value_ = another_value;\n",
    "        has_value_ = true;\n",
    "    }\n",
    "\n",
    "    void emplace() {\n",
    "        value_ = T();\n",
    "        has_value_ = true;\n",
    "    }\n",
    "\n",
    "    template<typename U>\n",
    "    void emplace(const U& source) {\n",
    "        value_ = T(source);\n",
    "        has_value_ = true;\n",
    "    }\n",
    "};\n",
    "\n",
    "\n",
    "std::string f() {\n",
    "    Optional<std::string> opt;\n",
    "\n",
    "    opt.emplace(\"hello\");\n",
    "    opt.emplace(\"C++\");\n",
    "    opt.emplace(\"world\");        \n",
    "\n",
    "    opt.emplace(std::string(\"-hello\"));\n",
    "    opt.emplace(std::string(\"-C++\"));\n",
    "    opt.emplace(std::string(\"-world\"));\n",
    "\n",
    "    return opt.get_value();\n",
    "}\n",
    "```"
   ]
  },
  {
   "cell_type": "markdown",
   "metadata": {},
   "source": [
    "<br />"
   ]
  },
  {
   "cell_type": "markdown",
   "metadata": {},
   "source": [
    "##### Специфика компиляции шаблонов"
   ]
  },
  {
   "cell_type": "markdown",
   "metadata": {},
   "source": [
    "Создадим свой собственный тип, которому запретим copy assignment:\n",
    "\n",
    "```c++\n",
    "class C {\n",
    "public:\n",
    "    C() = default;\n",
    "    C(const C&) = default;\n",
    "    C(C&&) = default;\n",
    "    C& operator = (const C&) = delete;  // DELETE\n",
    "    C& operator = (C&&) = default;\n",
    "    ~C() = default;\n",
    "};\n",
    "\n",
    "```"
   ]
  },
  {
   "cell_type": "markdown",
   "metadata": {},
   "source": [
    "Сделаем от него `Optional`:\n",
    "\n",
    "```c++\n",
    "Optional<C> opt;\n",
    "```"
   ]
  },
  {
   "cell_type": "markdown",
   "metadata": {},
   "source": [
    "**Вопрос:** Какие-нибудь возникли подозрения?"
   ]
  },
  {
   "cell_type": "markdown",
   "metadata": {},
   "source": [
    "<br />"
   ]
  },
  {
   "cell_type": "markdown",
   "metadata": {},
   "source": [
    "Ответ: компилируются только те методы, что вызываются:\n",
    "        \n",
    "```c++\n",
    "Optional<C> opt1;       // ok\n",
    "Optional<C> opt2;       // ok\n",
    "Optional<C> opt3(C());  // ok\n",
    "\n",
    "if (opt1 == opt2)  // ok\n",
    "    std::cout << \"equal!\" << std::endl;\n",
    "\n",
    "if (opt1 != opt3)  // ok\n",
    "    std::cout << \"not equal!\" << std::endl;\n",
    "\n",
    "opt1.reset();  // ok\n",
    "\n",
    "opt1 = opt3;       // compilation error: C::operator = (const C&) is deleted\n",
    "\n",
    "opt1.reset(C());   // compilation error: C::operator = (const C&) is deleted\n",
    "```\n",
    "\n",
    "**Инстанциирование шаблонов происходит лениво**\n",
    "\n",
    "[godbolt](https://godbolt.org/z/nrW598hzr)"
   ]
  },
  {
   "cell_type": "markdown",
   "metadata": {},
   "source": [
    "<br />"
   ]
  },
  {
   "cell_type": "markdown",
   "metadata": {},
   "source": [
    "##### функторы\n",
    "\n",
    "Есть ли особый смысл от классов без полей? Оказывается есть. \n",
    "\n",
    "Но для начала вопрос.\n",
    "\n",
    "**Вопрос** Как бы вы спроектировали функцию сортировки?\n",
    "\n",
    "\n",
    "\n",
    "В C++ её сделили максимально обобщенной\n",
    "\n",
    "```cpp\n",
    "template <typename T, typename Comp>\n",
    "void sort(T begin, T end, Comp comp) {...}\n",
    "```\n",
    "\n",
    "Заметим, что нам необязательно передавать сюда функцию. Достаточно передать то, что ведёт себя как функция. Например, структуру с перегруженным оператором ()\n",
    "\n",
    "```cpp\n",
    "struct IntComporator {\n",
    "    bool operator()(int lhs, int rhs) {\n",
    "        return lhs < rhs;\n",
    "    }\n",
    "};\n",
    "```\n",
    "\n",
    "Пока что всё что мы делаем выглядит как бред...\n",
    "\n",
    "Но вспомним свойства шаблонов. Что даёт нам такой способ передачи компоратора?\n",
    "\n",
    "https://quick-bench.com/q/7sM0gTfll-hob_vB5RcBzyUPVb8\n",
    "\n",
    "**Замечание** в современных плюсах функторы не так необходимы (можно сказать не нужны)."
   ]
  },
  {
   "cell_type": "markdown",
   "metadata": {},
   "source": [
    "<br />"
   ]
  },
  {
   "cell_type": "markdown",
   "metadata": {},
   "source": [
    "##### двухфазное разрешение имён и зависимые имена"
   ]
  },
  {
   "cell_type": "markdown",
   "metadata": {},
   "source": [
    "Вернёмся к вопросу **может ли шаблон содержать невалидный код?**\n",
    "\n",
    "Должен ли компилироваться такой код:\n",
    "\n",
    "```cpp\n",
    "template<typename T>\n",
    "int foo(T x) {\n",
    "    return T::some_variable; \n",
    "}\n",
    "```\n",
    "\n",
    "а такой\n",
    "\n",
    "```cpp\n",
    "template<typename T>\n",
    "int foo(T x) {\n",
    "    return < x; \n",
    "}\n",
    "```\n",
    "\n",
    "Другой вопрос: ошибка компиляции должна возникнуть до инстанцирования или после?\n",
    "\n",
    "\n",
    "Как будто бы эти две ситуации очень разные...\n",
    "\n",
    "На самом деле компиляция шаблона происходит в два этапа\n",
    "\n",
    "* На первом этапе происходит общая синтаксичиская проверка, а также обрабатываются *независимые имена*. На этом этапе анализ шаблона проводится с помощью правил обычного поиска, а также правил, зависящих от аргументов (ADL).\n",
    "\n",
    "* Происходит разрешение зависимых имён.\n",
    "\n",
    "* Независимое имя - имя, которое никак не может зависеть от шаблонных параметров.\n",
    "\n",
    "* Зависимое имя - имя, которое может зависеть от параметров шаблона.\n",
    "\n",
    "\n",
    "Что думаете насчёт следующего кода?\n",
    "\n",
    "```cpp\n",
    "struct MainStruct {\n",
    "    struct NestedStruct {...};\n",
    "};\n",
    "\n",
    "template<typename T> \n",
    "void Foo(const T& value) {\n",
    "    T::NestedStruct* ptr = nullptr;\n",
    "    ...\n",
    "}\n",
    "\n",
    "Foo(MainStruct{});\n",
    "```\n",
    "\n",
    "\n",
    "Исправленный код\n",
    "\n",
    "```cpp\n",
    "struct MainStruct {\n",
    "    struct NestedStruct {...};\n",
    "};\n",
    "\n",
    "template<typename T> \n",
    "void Foo(const T& value) {\n",
    "    typename T::NestedStruct* ptr = nullptr;\n",
    "    ...\n",
    "}\n",
    "\n",
    "Foo(MainStruct{});\n",
    "```\n",
    "\n",
    "А что тут?\n",
    "\n",
    "```cpp\n",
    "template <typename T>\n",
    "struct S {\n",
    "    template <typename U>\n",
    "    void foo() {}\n",
    "}\n",
    "\n",
    "template <typename T>\n",
    "void bar() {\n",
    "    S<T> s;\n",
    "    s.foo<T>();\n",
    "}\n",
    "```\n",
    "\n",
    "Опять напоролись на зависимое имя. Исправим.\n",
    "\n",
    "```cpp\n",
    "template <typename T>\n",
    "void bar() {\n",
    "    S<T> s;\n",
    "    s.template foo<T>();\n",
    "}\n",
    "```\n",
    "\n",
    "А тут? \n",
    "\n",
    "\n",
    "```cpp\n",
    "template <typename Т>\n",
    "class Base {\n",
    "public:\n",
    "    void bar();\n",
    "};\n",
    "\n",
    "template <typename T>\n",
    "class Derived : public Base<T> {\n",
    "public:\n",
    "    void foo()\n",
    "    {\n",
    "        bar ();\n",
    "    }   \n",
    "};\n",
    "```\n",
    "\n",
    "Нам надо объяснить компилятору что bar - это зависимое имя. Это один из случаев когда надо использовать явный `this`\n",
    "\n",
    "Исправленная версия\n",
    "\n",
    "```cpp\n",
    "template <typename Т>\n",
    "class Base {\n",
    "public:\n",
    "    void bar();\n",
    "};\n",
    "\n",
    "template <typename T>\n",
    "class Derived : public Base<T> {\n",
    "public:\n",
    "    void foo()\n",
    "    {\n",
    "        this->bar ();\n",
    "    }   \n",
    "};\n",
    "```\n",
    "\n",
    "Мой любимый пример https://en.cppreference.com/w/cpp/language/dependent_name\n",
    "\n",
    "```cpp\n",
    "typename T::template iterator<int>::value_type v;\n",
    "```"
   ]
  },
  {
   "cell_type": "markdown",
   "metadata": {},
   "source": [
    "<br />"
   ]
  },
  {
   "cell_type": "markdown",
   "metadata": {},
   "source": [
    "##### Характеристики типов (type traits)\n",
    "\n",
    "Начнём издалека. \n",
    "\n",
    "* Можно ли сказать, что специализация классов является разновидностью наследования?\n",
    "\n",
    "* Приведите полезный пример специализации шаблонного класса.\n",
    "\n",
    "\n",
    "\n",
    "Внезапно специализация классов помогает делать достаточно интересные вещи с шаблонами, но для этого нужно посмотреть на неё с другой стороны...\n",
    "\n",
    "Можем ли мы сделать \"функцию\", которая может для двух типов сказать являются они одинаковыми или нет? Да! И внезапно для этого нам будет полезна специализация класса\n",
    "\n",
    "```cpp\n",
    "template<typename T, typename U>\n",
    "struct is_same {\n",
    "    const static bool value = false;\n",
    "};\n",
    "\n",
    "template<typename T>\n",
    "struct is_same<T, T> {\n",
    "    const static bool value = true;\n",
    "};\n",
    "```\n",
    "\n",
    "**Вопрос:** Как написать type trait **IsFloatingPoint**?\n",
    "\n",
    "С помощью характеристик типов мы можем не только узнавать какую-то информацию о типах, но и конструировать новые типы.\n",
    "\n",
    "Попробуем написать trait, который по заданному типу будет выдавать тип без ссылки.\n",
    "\n",
    "```cpp\n",
    "template<typename T>\n",
    "struct remove_reference { using type = T; };\n",
    "\n",
    "template<typename T>\n",
    "struct<T&> remove_reference { using type = T; };\n",
    "\n",
    "template<typename T>\n",
    "struct<T&&> remove_reference { using type = T; };\n",
    "```\n",
    "\n",
    "**Упражнение:** напишите следующий трейт conditional. Этот трейт принимает NTTP bool, и типы T, F. Если значение типа bool true - возвращает тип T, если false, тип U. "
   ]
  },
  {
   "cell_type": "markdown",
   "metadata": {},
   "source": [
    "<br />"
   ]
  },
  {
   "cell_type": "markdown",
   "metadata": {},
   "source": [
    "##### just for fun: compile-time факториал"
   ]
  },
  {
   "cell_type": "markdown",
   "metadata": {},
   "source": [
    "Теперь мы разбираемся в шаблонах достаточно чтобы посчитать факториал во время компиляции на шаблонах (разобрать пример, показать результат в godbolt).\n",
    "\n",
    "Примечание: C++ значительно эволюционировал, и больше во время компиляции таким образом вычисления не проводят. Пример исключительно ученический. Compile-time вычисления будут рассмотрены в курсе далее."
   ]
  },
  {
   "cell_type": "markdown",
   "metadata": {},
   "source": [
    "```c++\n",
    "template<unsigned N>\n",
    "struct Factorial\n",
    "{\n",
    "    static const int value = N * Factorial<N - 1>::value;\n",
    "};\n",
    "\n",
    "template<>\n",
    "struct Factorial<0>\n",
    "{\n",
    "    static const int value = 1;\n",
    "};\n",
    "\n",
    "int main()\n",
    "{\n",
    "    return Factorial<10>::value;\n",
    "}\n",
    "```"
   ]
  },
  {
   "cell_type": "markdown",
   "metadata": {},
   "source": [
    "__Вопросы__:\n",
    "* Что делает следующий пример?\n",
    "\n",
    "```c++\n",
    "#include <cstdio>\n",
    "\n",
    "template<unsigned N>\n",
    "struct f\n",
    "{\n",
    "    static const int value = f<N-1>::value + f<N-2>::value;\n",
    "};\n",
    "\n",
    "template<>\n",
    "struct f<0>\n",
    "{\n",
    "    static const int value = 0;\n",
    "};\n",
    "\n",
    "template<>\n",
    "struct f<1>\n",
    "{\n",
    "    static const int value = 1;\n",
    "};\n",
    "\n",
    "int main()\n",
    "{\n",
    "    printf(\"%i\\n\", f<45>::value);\n",
    "}\n",
    "```"
   ]
  },
  {
   "cell_type": "markdown",
   "metadata": {},
   "source": [
    "<br />"
   ]
  },
  {
   "cell_type": "markdown",
   "metadata": {},
   "source": [
    "##### Примеры шаблонных функций / классов из стандартной библиотеки"
   ]
  },
  {
   "cell_type": "markdown",
   "metadata": {},
   "source": [
    "Рассмотреть примеры подробнее, специализации (если есть). Показать секции member types, non-member functions etc."
   ]
  },
  {
   "cell_type": "markdown",
   "metadata": {},
   "source": [
    "https://en.cppreference.com/w/cpp/numeric/complex"
   ]
  },
  {
   "cell_type": "markdown",
   "metadata": {},
   "source": [
    "https://en.cppreference.com/w/cpp/container/vector"
   ]
  },
  {
   "cell_type": "markdown",
   "metadata": {},
   "source": [
    "<br />"
   ]
  },
  {
   "cell_type": "markdown",
   "metadata": {},
   "source": [
    "**Задания для закрепления материала (без баллов):**\n",
    "\n",
    "1. Напишите шаблонную функцию, возвращающую минимум из двух аргументов. Аргументы должны приниматься по константной ссылке. Протестируйте на числах и строках.\n",
    "\n",
    "2. Напишите шаблонную функцию, находящую минимальный элемент в непустом векторе:\n",
    "\n",
    "   ```\n",
    "   template<typename T>\n",
    "   const T &vec_min(const std::vector<T> &v) { ... }\n",
    "   ```\n",
    "\n",
    "3. Напишите шаблонный оператор сравнения двух векторов с разгыми типами элементов. Он должен компилироваться тогда и только тогда, когда объекты разных векторов можно сравнивать чере `==`\n",
    "\n",
    "4. Реализуйте задание 2 на поиск минимального элемента, но операция \"меньше\" теперь является аргументом функции `vec_min`. Как это сделать - посмотрите в документации к функции `std::min_element`."
   ]
  },
  {
   "cell_type": "markdown",
   "metadata": {},
   "source": [
    "<br />"
   ]
  },
  {
   "cell_type": "markdown",
   "metadata": {},
   "source": [
    "**Выдать домашнее задание если ещё не**"
   ]
  },
  {
   "cell_type": "markdown",
   "metadata": {},
   "source": [
    "**Замечания после лекции:**\n",
    "\n",
    "* Всё равно остался ещё целый урок даже с выдачей ДЗ, материала мало на 2 пары.\n",
    "* Проблема всё та же: \"старичкам\" слишком скучно, \"новичкам\" слишком сложно. Для \"новичков\" надо добавлять визаулизации. Что же делать со \"старичками\"?"
   ]
  }
 ],
 "metadata": {
  "kernelspec": {
   "display_name": "Python 3 (ipykernel)",
   "language": "python",
   "name": "python3"
  },
  "language_info": {
   "codemirror_mode": {
    "name": "ipython",
    "version": 3
   },
   "file_extension": ".py",
   "mimetype": "text/x-python",
   "name": "python",
   "nbconvert_exporter": "python",
   "pygments_lexer": "ipython3",
   "version": "3.10.12"
  }
 },
 "nbformat": 4,
 "nbformat_minor": 2
}
