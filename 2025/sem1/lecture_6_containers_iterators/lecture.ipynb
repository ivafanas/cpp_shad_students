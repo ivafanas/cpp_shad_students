{
 "cells": [
  {
   "cell_type": "markdown",
   "metadata": {},
   "source": [
    "### Лекция 6. Контейнеры и итераторы"
   ]
  },
  {
   "cell_type": "markdown",
   "metadata": {},
   "source": [
    "https://en.cppreference.com/w/cpp/container"
   ]
  },
  {
   "cell_type": "markdown",
   "metadata": {},
   "source": [
    "https://apprize.info/c/optimized/10.html"
   ]
  },
  {
   "cell_type": "markdown",
   "metadata": {},
   "source": [
    "Что такое контейнер и что такое итератор общими словами:\n",
    "* контейнер - хранилище объектов одного типа\n",
    "* итератор - \"ключик\" к конкретному объекту в контейнере, возможно, позволяющий \"обходить\" контейнер - перечислять объекты в нём"
   ]
  },
  {
   "cell_type": "markdown",
   "metadata": {},
   "source": [
    "```c++\n",
    "// контейнер целых чисел\n",
    "std::vector<int> v = {1, 2, 3, 4, 5};\n",
    "\n",
    "// итератор, указывающий на нулевой элемент в контейнере:\n",
    "std::vector<int>::iterator it = v.begin();\n",
    "// auto it = v.begin();  // или так, компилятор сам выведет тип\n",
    "\n",
    "++it;  // теперь it указывает на первый элемент в контейнере\n",
    "\n",
    "*it = 42;\n",
    "\n",
    "std::cout << v[1]; // # 42\n",
    "v[1] = 55;\n",
    "std::cout << *it; // # 55\n",
    "```"
   ]
  },
  {
   "cell_type": "markdown",
   "metadata": {},
   "source": [
    "__Вопросы__:\n",
    "* с какими контейнерами мы уже имели дело в курсе?\n",
    "\n",
    "<details>\n",
    "<summary>Подсказка</summary>\n",
    "<p>\n",
    "\n",
    "`std::string`\n",
    "\n",
    "</p>\n",
    "</details>\n",
    "\n",
    "* какие ещё контейнеры вы знаете?\n",
    "* владеет ли контейнер объектами в нём? (про что этот вопрос?)"
   ]
  },
  {
   "cell_type": "markdown",
   "metadata": {},
   "source": [
    "<br />"
   ]
  },
  {
   "cell_type": "markdown",
   "metadata": {},
   "source": [
    "##### Стандартные контейнеры: последовательности"
   ]
  },
  {
   "cell_type": "markdown",
   "metadata": {},
   "source": [
    "Памятка: обратить _особое_ внимание на внутреннюю организацию, `sizeof`, детали реализации, стоимость операций."
   ]
  },
  {
   "cell_type": "markdown",
   "metadata": {},
   "source": [
    "<br />"
   ]
  },
  {
   "cell_type": "markdown",
   "metadata": {},
   "source": [
    "https://en.cppreference.com/w/cpp/container/array\n",
    "\n",
    "Массив:\n",
    "* compile-time размер\n",
    "* объекты размещены непосредственно в `std::array`\n",
    "* объекты размещены последовательно"
   ]
  },
  {
   "cell_type": "markdown",
   "metadata": {},
   "source": [
    "```c++\n",
    "// example\n",
    "template<typename T, size_t N>\n",
    "class array\n",
    "{\n",
    "private:\n",
    "    T data_[N];\n",
    "\n",
    "    ...;    \n",
    "};\n",
    "```"
   ]
  },
  {
   "cell_type": "markdown",
   "metadata": {},
   "source": [
    "Важнейшее свойство `std::array`, которое выделяет его на фоне всех других контейнеров - отсутствие аллокаций внутри контейнера:"
   ]
  },
  {
   "cell_type": "markdown",
   "metadata": {},
   "source": [
    "```c++\n",
    "void func()\n",
    "{\n",
    "    // 5 целых чисел будут отмотаны НА СТЕКЕ, никаких вызовов malloc\n",
    "    std::array<int, 5> arr;\n",
    "    arr[2] = 0;\n",
    "    arr[3] = 0;\n",
    "    \n",
    "    // добро пожаловать в динамическую память, malloc-free\n",
    "    // и прочие радости медленного кода \n",
    "    std::vector<int> v = {1, 2, 3, 4, 5};\n",
    "    \n",
    "    // ну оооооооок, в динамической памяти\n",
    "    auto* p = new std::array<int, 5>();\n",
    "    ...\n",
    "}\n",
    "```"
   ]
  },
  {
   "cell_type": "markdown",
   "metadata": {},
   "source": [
    "Стоимость:\n",
    "* расходы памяти на i-ый элемент - ???\n",
    "* доступ до i-го элемента - ???\n",
    "* поиск по значению - ???\n",
    "* вставка - ???\n",
    "* удаление - ???\n",
    "* сортировка - ???\n",
    "* sizeof - ???"
   ]
  },
  {
   "cell_type": "markdown",
   "metadata": {},
   "source": [
    "<br />"
   ]
  },
  {
   "cell_type": "markdown",
   "metadata": {},
   "source": [
    "https://en.cppreference.com/w/cpp/container/vector"
   ]
  },
  {
   "cell_type": "markdown",
   "metadata": {},
   "source": [
    "http://www.cvl.isy.liu.se:82/education/graduate/opencv/pres.pdf"
   ]
  },
  {
   "cell_type": "markdown",
   "metadata": {},
   "source": [
    "* меняющийся размер\n",
    "* выделение памяти на куче\n",
    "* объекты размещены последовательно"
   ]
  },
  {
   "cell_type": "markdown",
   "metadata": {},
   "source": [
    "```c++\n",
    "int f()\n",
    "{\n",
    "    std::vector<int> v1 = {1, 2, 3, 4, 5};\n",
    "    v1.push_back(6);\n",
    "    v1.push_back(7);\n",
    "    v1.push_back(8);\n",
    "    \n",
    "    v1.clear();\n",
    "    v1.push_back(9);\n",
    "    v1.insert(v1.begin(), 1);\n",
    "    \n",
    "    return v1.back();\n",
    "}\n",
    "```"
   ]
  },
  {
   "cell_type": "markdown",
   "metadata": {},
   "source": [
    "```c++\n",
    "std::vector<int> v = {1, 2, 3};\n",
    "v.front(); // 1\n",
    "v.back(); // 3\n",
    "```"
   ]
  },
  {
   "cell_type": "markdown",
   "metadata": {},
   "source": [
    "![](vector_internals.png)"
   ]
  },
  {
   "cell_type": "markdown",
   "metadata": {},
   "source": [
    "Эта история будет вечной..."
   ]
  },
  {
   "cell_type": "markdown",
   "metadata": {},
   "source": [
    "```c++\n",
    "// ex 1\n",
    "std::vector<int> v;\n",
    "for (int i = 0; i < N; ++i)\n",
    "    v.push_back(i);\n",
    "// Вопрос: сложность алгоритма в кол-ве копирований\n",
    "// Вопрос: сложность алгоритма в кол-ве аллокаций\n",
    "    \n",
    "// ex 2\n",
    "std::vector<int> v;\n",
    "v.reserve(N);\n",
    "for (int i = 0; i < N; ++i)\n",
    "    v.push_back(i);\n",
    "// Вопрос: сложность алгоритма в кол-ве копирований\n",
    "// Вопрос: сложность алгоритма в кол-ве аллокаций\n",
    "```"
   ]
  },
  {
   "cell_type": "markdown",
   "metadata": {},
   "source": [
    "Стоимость:\n",
    "* расходы памяти на i-ый элемент - ???\n",
    "* доступ до i-го элемента - ???\n",
    "* поиск по значению - ???\n",
    "* вставка в начало - ???\n",
    "* вставка в середину - ???\n",
    "* вставка в конец - ???\n",
    "* удаление - ???\n",
    "* сортировка - ???\n",
    "* sizeof - ???"
   ]
  },
  {
   "cell_type": "markdown",
   "metadata": {},
   "source": [
    "Специальное исключение:"
   ]
  },
  {
   "cell_type": "markdown",
   "metadata": {},
   "source": [
    "```c++\n",
    "std::vector<bool> bv;\n",
    "```"
   ]
  },
  {
   "cell_type": "markdown",
   "metadata": {},
   "source": [
    "<br />"
   ]
  },
  {
   "cell_type": "markdown",
   "metadata": {},
   "source": [
    "https://en.cppreference.com/w/cpp/container/deque"
   ]
  },
  {
   "cell_type": "markdown",
   "metadata": {},
   "source": [
    "* меняющийся размер\n",
    "* выделение памяти на куче\n",
    "* объекты размещены последовательными блоками, а блоки раскиданы по памяти"
   ]
  },
  {
   "cell_type": "markdown",
   "metadata": {},
   "source": [
    "Нарисовать как хранится `deque`: блоки + переходы (bookkeeping)"
   ]
  },
  {
   "cell_type": "markdown",
   "metadata": {},
   "source": [
    "![](deque_internals.png)"
   ]
  },
  {
   "cell_type": "markdown",
   "metadata": {},
   "source": [
    "Размер блока зависит от реализации: \n",
    "* times the object size on 64-bit libstdc++;\n",
    "* 16 times the object size or 4096 bytes, whichever is larger, on 64-bit libc++"
   ]
  },
  {
   "cell_type": "markdown",
   "metadata": {},
   "source": [
    "```c++\n",
    "std::deque<int> d = {1, 2, 3, 4 ,5};\n",
    "        \n",
    "d.push_back(6);\n",
    "d.push_front(0);\n",
    "\n",
    "d.pop_back();\n",
    "d.pop_front();\n",
    "\n",
    "d[2] = 3;\n",
    "```"
   ]
  },
  {
   "cell_type": "markdown",
   "metadata": {},
   "source": [
    "Стоимость:\n",
    "* расходы памяти на i-ый элемент - ???\n",
    "* доступ до i-го элемента - ???\n",
    "* поиск по значению - ???\n",
    "* вставка в начало - ???\n",
    "* вставка в середину - ???\n",
    "* вставка в конец - ???\n",
    "* удаление - ???\n",
    "* сортировка - ???\n",
    "* sizeof - ???"
   ]
  },
  {
   "cell_type": "markdown",
   "metadata": {},
   "source": [
    "<br />"
   ]
  },
  {
   "cell_type": "markdown",
   "metadata": {},
   "source": [
    "https://en.cppreference.com/w/cpp/container/list"
   ]
  },
  {
   "cell_type": "markdown",
   "metadata": {},
   "source": [
    "* меняющийся размер\n",
    "* выделение памяти на куче отдельно под каждый элемент\n",
    "* оптимизирован под вставку / удаление элементов в произвольном месте"
   ]
  },
  {
   "cell_type": "markdown",
   "metadata": {},
   "source": [
    "![](list_internals.png)"
   ]
  },
  {
   "cell_type": "markdown",
   "metadata": {},
   "source": [
    "```c++\n",
    "std::list<int> l = { 7, 5, 16, 8 };\n",
    "l.push_back(4);\n",
    "l.push_front(3);\n",
    "\n",
    "l.sort();\n",
    "```"
   ]
  },
  {
   "cell_type": "markdown",
   "metadata": {},
   "source": [
    "Стоимость:\n",
    "\n",
    "* расходы памяти на i-ый элемент - ???\n",
    "* доступ до i-го элемента - ???\n",
    "* поиск по значению - ???\n",
    "* вставка в начало - ???\n",
    "* вставка в середину - ???\n",
    "* вставка в конец - ???\n",
    "* удаление - ???\n",
    "* сортировка - ???\n",
    "* sizeof - ???"
   ]
  },
  {
   "cell_type": "markdown",
   "metadata": {},
   "source": [
    "<br />"
   ]
  },
  {
   "cell_type": "markdown",
   "metadata": {},
   "source": [
    "https://en.cppreference.com/w/cpp/container/forward_list"
   ]
  },
  {
   "cell_type": "markdown",
   "metadata": {},
   "source": [
    "Вариант `std::list` с урезанным функционалом, но более дешёвый по памяти."
   ]
  },
  {
   "cell_type": "markdown",
   "metadata": {},
   "source": [
    "![](forwardlist_internals.jpg)"
   ]
  },
  {
   "cell_type": "markdown",
   "metadata": {},
   "source": [
    "```c++\n",
    "std::forward_list<int> f = {1, 2, 3, 4, 5};\n",
    "f.push_front(0);\n",
    "f.insert_after(f.begin(), 1);\n",
    "```"
   ]
  },
  {
   "cell_type": "markdown",
   "metadata": {},
   "source": [
    "Стоимость:\n",
    "\n",
    "* расходы памяти на i-ый элемент - ???\n",
    "* доступ до i-го элемента - ???\n",
    "* поиск по значению - ???\n",
    "* вставка в начало - ???\n",
    "* вставка в середину - ???\n",
    "* вставка в конец - ???\n",
    "* удаление - ???\n",
    "* сортировка - ???\n",
    "* sizeof - ???"
   ]
  },
  {
   "cell_type": "markdown",
   "metadata": {},
   "source": [
    "<br />"
   ]
  },
  {
   "cell_type": "markdown",
   "metadata": {},
   "source": [
    "##### Стандартные контейнеры: ассоциативные"
   ]
  },
  {
   "cell_type": "markdown",
   "metadata": {},
   "source": [
    "https://en.cppreference.com/w/cpp/container/map\n",
    "\n",
    "https://en.cppreference.com/w/cpp/container/set\n",
    "\n",
    "https://en.cppreference.com/w/cpp/container/multimap\n",
    "\n",
    "https://en.cppreference.com/w/cpp/container/multiset"
   ]
  },
  {
   "cell_type": "markdown",
   "metadata": {},
   "source": [
    "Отображения / множества, основанные на порядке элементов. Обычно реализуются в виде красно-чёрных деревьев по ключам."
   ]
  },
  {
   "cell_type": "markdown",
   "metadata": {},
   "source": [
    "Главное требование к ключам - они должны иметь порядок с требованиями Compare (strict weak ordering + equivalence https://en.cppreference.com/w/cpp/named_req/Compare):\n",
    "* либо определён `operator<` для ключей, удовлетворящий требованиям Compare\n",
    "* либо специфицирована пользовательская функция сравнения, удовлетворящия требованиям Compare\n",
    "\n",
    "Замечание: если сравнение не удовлетворяет требованиям Compare - UB"
   ]
  },
  {
   "cell_type": "markdown",
   "metadata": {},
   "source": [
    "Важное свойство: порядок обхода объектов - отсортированы по ключу."
   ]
  },
  {
   "cell_type": "markdown",
   "metadata": {},
   "source": [
    "```c++\n",
    "// создание отображения\n",
    "std::map<int, std::string> id_to_name = {\n",
    "    {73, \"Balin\"},\n",
    "    {42, \"Dwalin\"},\n",
    "    {55, \"Gloin\"}\n",
    "};\n",
    "\n",
    "// добавление элементов:\n",
    "id_to_name[53] = \"Gimli\";\n",
    "\n",
    "// изменение:\n",
    "id_to_name[53] = \"Torin\";\n",
    "\n",
    "// особенность map-подобных контейнеров: operator[] создаёт элемент, если его там нет\n",
    "const std::string name = id_to_name[54]; // # name == \"\", но в id_to_name теперь есть такой элемент: {54, \"\"}\n",
    "        \n",
    "// перебор элементов (порядок!!)\n",
    "{\n",
    "    // так код не пишите, это до С++11\n",
    "    for (std::map<int, std::string>::iterator it = id_and_name.begin(); it != id_and_name.end(); ++it)\n",
    "        std::cout << it->first << \" \" << it->second << std::endl;\n",
    "\n",
    "    // так код не пишите, только для иллюстрации\n",
    "    for (const std::pair<const int, std::string>& id_and_name : id_to_name)\n",
    "        std::cout << id_and_name.first << \" \" << id_and_name.second << std::endl;\n",
    "    \n",
    "    // если не разрешён С++17, то хотя бы так\n",
    "    for (const auto& id_and_name : id_to_name)\n",
    "        std::cout << id_and_name.first << \" \" << id_and_name.second << std::endl;\n",
    "    \n",
    "    // начиная с С++17:\n",
    "    for (const auto& [id, name] : id_to_name)\n",
    "        std::cout << id << \" \" << name << std::endl;\n",
    "}\n",
    "\n",
    "// поиск элемента в map\n",
    "{\n",
    "    // до С++11\n",
    "    std::map<int, std::string>::iterator it = id_to_name.find(42);\n",
    "    if (it != id_to_name.end())\n",
    "        std::cout << it->second;\n",
    "    \n",
    "    // после C++11\n",
    "    auto it = id_to_name.find(42);\n",
    "    if (it != id_to_name.end())\n",
    "        std::cout << it->second;\n",
    "}\n",
    "```"
   ]
  },
  {
   "cell_type": "markdown",
   "metadata": {},
   "source": [
    "```c++\n",
    "std::set<std::string> animals = {\"cat\", \"dog\", \"dolphin\"};\n",
    "animals.insert(\"elephant\");\n",
    "animals.erase(\"dragon\");\n",
    "\n",
    "// !порядок\n",
    "for (const auto& animal : animals)\n",
    "    std::cout << animal << std::endl;\n",
    "```"
   ]
  },
  {
   "cell_type": "markdown",
   "metadata": {},
   "source": [
    "![](set_internals.jpg)"
   ]
  },
  {
   "cell_type": "markdown",
   "metadata": {},
   "source": [
    "Задание оператора сравнения:"
   ]
  },
  {
   "cell_type": "markdown",
   "metadata": {},
   "source": [
    "```c++\n",
    "// пользовательский тип\n",
    "struct Point\n",
    "{\n",
    "    float x, y;\n",
    "};\n",
    "\n",
    "// определяем понятие меньше через лексикографическое сравнение\n",
    "bool operator < (const Point& l, const Point& r) noexcept\n",
    "{\n",
    "    return std::tie(l.x, l.y) < std::tie(r.x, r.y);\n",
    "}\n",
    "\n",
    "// теперь можно делать set/map:\n",
    "std::set<Point> points;\n",
    "```"
   ]
  },
  {
   "cell_type": "markdown",
   "metadata": {},
   "source": [
    "```c++\n",
    "// пользовательский тип\n",
    "struct Person\n",
    "{\n",
    "    std::string name;\n",
    "    int age;\n",
    "};\n",
    "\n",
    "// не хотим определять operator< или хотим отличную от него сортировку в set\n",
    "struct LessPersonByAge\n",
    "{\n",
    "    bool operator()(const Person& l, const Person& r) const noexcept\n",
    "    {\n",
    "        return std::tie(l.age, l.name) < std::tie(r.age, r.name);\n",
    "    }\n",
    "};\n",
    "\n",
    "// теперь можно:\n",
    "std::set<Person, LessPersonByAge> people;    \n",
    "```"
   ]
  },
  {
   "cell_type": "markdown",
   "metadata": {},
   "source": [
    "Стоимость:\n",
    "\n",
    "* расходы памяти на элемент - ???\n",
    "* поиск по ключу - ???\n",
    "* вставка - ???\n",
    "* удаление - ???\n",
    "* сортировка - ???\n",
    "* sizeof - ???"
   ]
  },
  {
   "cell_type": "markdown",
   "metadata": {},
   "source": [
    "<br />"
   ]
  },
  {
   "cell_type": "markdown",
   "metadata": {},
   "source": [
    "###### unordered"
   ]
  },
  {
   "cell_type": "markdown",
   "metadata": {},
   "source": [
    "https://en.cppreference.com/w/cpp/container/unordered_map\n",
    "    \n",
    "https://en.cppreference.com/w/cpp/container/unordered_set\n",
    "    \n",
    "https://en.cppreference.com/w/cpp/container/unordered_multimap\n",
    "\n",
    "https://en.cppreference.com/w/cpp/container/unordered_multiset"
   ]
  },
  {
   "cell_type": "markdown",
   "metadata": {},
   "source": [
    "Отображения / множества, основанные на значении хеш-функции от элементов.\n",
    "\n",
    "Обычно реализуются в виде массива списков (из-за специфики требований их сложно реализовать через открытую адресацию).\n",
    "\n",
    "(Не забыть рассказать про load_factor и rehashing)"
   ]
  },
  {
   "cell_type": "markdown",
   "metadata": {},
   "source": [
    "![](unordered_internals.jpg)"
   ]
  },
  {
   "cell_type": "markdown",
   "metadata": {},
   "source": [
    "В качестве функции хеширования по умолчанию испольуется `std::hash`, но можно и задавать собственную функцию хеширования (аналогично собственной функции сравнения для `std::map`)"
   ]
  },
  {
   "cell_type": "markdown",
   "metadata": {},
   "source": [
    "```c++\n",
    "std::unordered_map<int, std::string> id_to_name = {\n",
    "    {73, \"Balin\"},\n",
    "    {42, \"Dwalin\"},\n",
    "    {55, \"Gloin\"}\n",
    "};\n",
    "                \n",
    "// порядок перечисления объектов не гарантирован!\n",
    "for (const auto& [id, name] : id_to_name)\n",
    "    std::cout << id;\n",
    "    \n",
    "std::unordered_set<std::string> animals = {\"cat\", \"dog\", \"dolphin\"};\n",
    "                \n",
    "// порядок перечисления объектов не гарантирован!\n",
    "for (const auto& animal : animals)\n",
    "    std::cout << animal;\n",
    "```"
   ]
  },
  {
   "cell_type": "markdown",
   "metadata": {},
   "source": [
    "Заполнение unordered-контейнера, обратить внимание на load_factor + rehash:"
   ]
  },
  {
   "cell_type": "markdown",
   "metadata": {},
   "source": [
    "```c++\n",
    "std::unordered_set<int> ids;\n",
    "for (int i = 0; i < 1000; ++i)\n",
    "    ids.insert(generate_id());\n",
    "// Вопрос: сложность алгоритма в кол-ве копирований\n",
    "// Вопрос: сложность алгоритма в кол-ве аллокаций\n",
    "\n",
    "std::unordered_set<int> ids;\n",
    "ids.reserve(1000);\n",
    "for (int i = 0; i < 1000; ++i)\n",
    "    ids.insert(generate_id());\n",
    "// Вопрос: сложность алгоритма в кол-ве копирований\n",
    "// Вопрос: сложность алгоритма в кол-ве аллокаций\n",
    "```"
   ]
  },
  {
   "cell_type": "markdown",
   "metadata": {},
   "source": [
    "__Замечание__: если ослабить требования к `unordered_*` контейнерам, например, разрешить протухать итераторам при вставке новых элементов, то hash-based отображения можно значительно (в разы) ускорить, что и было сделано сторонними реализациями.\n",
    "\n",
    "Например, реализация от google: https://www.youtube.com/watch?v=ncHmEUmJZf4\n",
    "\n",
    "И море, море их. Обзорный доклад с деревом решений \"какой когда использовать\":\n",
    "https://www.youtube.com/watch?v=M2fKMP47slQ"
   ]
  },
  {
   "cell_type": "markdown",
   "metadata": {},
   "source": [
    "Стоимость:\n",
    "\n",
    "* расходы памяти на элемент - ???\n",
    "* поиск по ключу - ???\n",
    "* вставка - ???\n",
    "* удаление - ???\n",
    "* сортировка - ???\n",
    "* sizeof - ???"
   ]
  },
  {
   "cell_type": "markdown",
   "metadata": {},
   "source": [
    "<br />"
   ]
  },
  {
   "cell_type": "markdown",
   "metadata": {},
   "source": [
    "##### Итераторы. begin && end"
   ]
  },
  {
   "cell_type": "markdown",
   "metadata": {},
   "source": [
    "`begin()`, `end()` - методы у контейнеров, возвращающие итераторы:\n",
    "* `begin()` на первый элемент в контейнере\n",
    "* `end()` на следующий за последним элементом"
   ]
  },
  {
   "cell_type": "markdown",
   "metadata": {},
   "source": [
    "Как, зная `begin()` и `end()`, проверить, что контейнер пуст?"
   ]
  },
  {
   "cell_type": "markdown",
   "metadata": {},
   "source": [
    "```c++\n",
    "std::vector<int> v = {10, 20, 30, 40};\n",
    "```"
   ]
  },
  {
   "cell_type": "markdown",
   "metadata": {},
   "source": [
    "![](vector_internals.png)"
   ]
  },
  {
   "cell_type": "markdown",
   "metadata": {},
   "source": [
    "```c++\n",
    "auto it = v.begin();\n",
    "std::cout << *it; // 10\n",
    "        \n",
    "++it;\n",
    "std::cout << *it; // 20\n",
    "        \n",
    "++it;\n",
    "std::cout << *it; // 30\n",
    "\n",
    "++it;\n",
    "std::cout << *it; // 40\n",
    "\n",
    "++it; // it == v.end()\n",
    "std::cout << *it; // UB - you should never dereference end()!\n",
    "```"
   ]
  },
  {
   "cell_type": "markdown",
   "metadata": {},
   "source": [
    "<br />"
   ]
  },
  {
   "cell_type": "markdown",
   "metadata": {},
   "source": [
    "##### range for"
   ]
  },
  {
   "cell_type": "markdown",
   "metadata": {},
   "source": [
    "https://en.cppreference.com/w/cpp/language/range-for"
   ]
  },
  {
   "cell_type": "markdown",
   "metadata": {},
   "source": [
    "```c++\n",
    "std::vector<int> v = {10, 20, 30, 40};\n",
    "for (int x : v)\n",
    "    std::cout << x; // во что разворачивается range-for? (упрощённо)\n",
    "```"
   ]
  },
  {
   "cell_type": "markdown",
   "metadata": {},
   "source": [
    "во что разворачивается range-for? (упрощённо)"
   ]
  },
  {
   "cell_type": "markdown",
   "metadata": {},
   "source": [
    "```c++\n",
    "for (auto& x : v) { ... }\n",
    "```"
   ]
  },
  {
   "cell_type": "markdown",
   "metadata": {},
   "source": [
    "```c++\n",
    "{\n",
    "    auto&& __range = v;\n",
    "    auto __begin = __range.begin();\n",
    "    auto __end = __range.end();\n",
    "    for (; __begin != __end; ++__begin) {\n",
    "        auto& x = *__begin;\n",
    "        ...\n",
    "    }\n",
    "}\n",
    "```"
   ]
  },
  {
   "cell_type": "markdown",
   "metadata": {},
   "source": [
    "Смысл в том, что как только для пользовательского контейнера определены итераторы и методы `begin()`, `end()`, `cbegin()`, `cend()`, для него \"из коробки\" начинает работать range-for."
   ]
  },
  {
   "cell_type": "markdown",
   "metadata": {},
   "source": [
    "<br />"
   ]
  },
  {
   "cell_type": "markdown",
   "metadata": {},
   "source": [
    "##### Инвалидация итераторов"
   ]
  },
  {
   "cell_type": "markdown",
   "metadata": {},
   "source": [
    "Итераторы могут быть инвалидированы, если контейнер меняется.\n",
    "\n",
    "Под инвалидацией итераторов понимается, что они \"ломаются молча\", о том, что они сломаны, никак не узнать. Программист обязан уметь читать документацию и отслеживать такие ситуации.\n",
    "\n",
    "Рассмотрим на примере `std::vector` в предположении, что итератор реализован как указатель на элемент в `std::vector`.\n",
    "\n",
    "(нарисовать происходящее на доске)"
   ]
  },
  {
   "cell_type": "markdown",
   "metadata": {},
   "source": [
    "```c++\n",
    "std::vector<int> v = {10, 20, 30, 40};\n",
    "\n",
    "auto v_end = v.end();\n",
    "auto it = v.begin();\n",
    "\n",
    "v.push_back(50);\n",
    "// at this point:\n",
    "// |it|    - might be invalidated\n",
    "// |v_end| - might be invalidated\n",
    "\n",
    "std::cout << *it; // oooops, ub\n",
    "if (v.begin() == v_end)  // ooooops, ub\n",
    "    ...;\n",
    "```"
   ]
  },
  {
   "cell_type": "markdown",
   "metadata": {},
   "source": [
    "https://en.cppreference.com/w/cpp/container/vector/push_back"
   ]
  },
  {
   "cell_type": "markdown",
   "metadata": {},
   "source": [
    "```c++\n",
    "std::set<int> s = {20, 30, 40, 50};\n",
    "        \n",
    "auto it = s.begin();\n",
    "std::cout << *it;  // 20\n",
    "\n",
    "s.insert(10);\n",
    "\n",
    "std::cout << *it;  // ok, 20\n",
    "```"
   ]
  },
  {
   "cell_type": "markdown",
   "metadata": {},
   "source": [
    "Почему так? Потому что документация:\n",
    "\n",
    "https://en.cppreference.com/w/cpp/container/set/insert"
   ]
  },
  {
   "cell_type": "markdown",
   "metadata": {},
   "source": [
    "*У каждого контейнера у каждого метода прописан контракт на валидность итераторов (когда и какие итераторы инвалидируются).*\n",
    "\n",
    "*Читайте документацию внимательно!*"
   ]
  },
  {
   "cell_type": "markdown",
   "metadata": {},
   "source": [
    "<br />"
   ]
  },
  {
   "cell_type": "markdown",
   "metadata": {},
   "source": [
    "##### Правильное удаление элементов из map/set по условию"
   ]
  },
  {
   "cell_type": "markdown",
   "metadata": {},
   "source": [
    "Как неправильно удалять элементы из `std::set`:"
   ]
  },
  {
   "cell_type": "markdown",
   "metadata": {},
   "source": [
    "```c++\n",
    "std::set<int> s = {1, 2, 3, 4, 5};\n",
    "\n",
    "auto it = s.begin();\n",
    "for(; it != s.end(); ++it)\n",
    "    if((*it) % 2 == 1)\n",
    "        s.erase(it);\n",
    "```"
   ]
  },
  {
   "cell_type": "markdown",
   "metadata": {},
   "source": [
    "В каком месте баг?"
   ]
  },
  {
   "cell_type": "markdown",
   "metadata": {},
   "source": [
    "Правильное удаление:"
   ]
  },
  {
   "cell_type": "markdown",
   "metadata": {},
   "source": [
    "```c++\n",
    "std::set<int> s = {1, 2, 3, 4, 5};\n",
    "for(auto it = s.begin(); it != s.end();)\n",
    "{\n",
    "    if((*it) % 2 == 1)\n",
    "        it = s.erase(it);\n",
    "    else\n",
    "        ++it;\n",
    "}\n",
    "```"
   ]
  },
  {
   "cell_type": "markdown",
   "metadata": {},
   "source": [
    "<br />"
   ]
  },
  {
   "cell_type": "markdown",
   "metadata": {},
   "source": [
    "Обобщённо проблема выглядит следующим образом:\n",
    "    \n",
    "```c++\n",
    "for (const auto& item : container) {    \n",
    "    operate_with(item, container);\n",
    "    // внутри цикла работа с container-ом не должна\n",
    "    // инвалидировать его итераторы, иначе перебор\n",
    "    // элементов в контейнере сломается.\n",
    "}\n",
    "```\n",
    "\n",
    "Проблема (кмк) должна быть решена в Rust на уровне синтаксиса языка."
   ]
  },
  {
   "cell_type": "markdown",
   "metadata": {},
   "source": [
    "<br />"
   ]
  },
  {
   "cell_type": "markdown",
   "metadata": {},
   "source": [
    "##### Операции над итераторами доступа"
   ]
  },
  {
   "cell_type": "markdown",
   "metadata": {},
   "source": [
    "```c++\n",
    "std::vector<int> v = {10, 20, 30, 40, 50};\n",
    "        \n",
    "auto it = v.begin();\n",
    "\n",
    "// некоторые итераторы позволяют брать следующий элемент:\n",
    "auto jt_1 = it + 1;\n",
    "auto jt_2 = std::next(it);\n",
    "        \n",
    "// некоторые итераторы позволяют брать предыдущий элемент:\n",
    "auto jt_3 = it - 1;         // ?\n",
    "auto jt_4 = std::prev(it);  // ?\n",
    "        \n",
    "// некоторые итераторы позволяют прыгать на n элементов вперёд:\n",
    "auto jt_5 = it + 4;\n",
    "auto jt_6 = std::advance(it, 4);\n",
    "\n",
    "// некоторые итераторы позволяют прыгать на n элементов назад:\n",
    "auto jt_7 = it - 4;                // ?\n",
    "auto jt_8 = std::advance(it, -4);  // ?\n",
    "\n",
    "// некоторые итераторы позволяют считать расстояние между ними:\n",
    "std::cout << std::distance(it, jt_5);  // 4\n",
    "```"
   ]
  },
  {
   "cell_type": "markdown",
   "metadata": {},
   "source": [
    "Стандартные операции над итераторами доступа (access iterators):\n",
    "* `std::next`\n",
    "* `std::prev`\n",
    "* `std::advance`\n",
    "* `std::distance`"
   ]
  },
  {
   "cell_type": "markdown",
   "metadata": {},
   "source": [
    "<br />"
   ]
  },
  {
   "cell_type": "markdown",
   "metadata": {},
   "source": [
    "##### Категории итераторов"
   ]
  },
  {
   "cell_type": "markdown",
   "metadata": {},
   "source": [
    "Как вы помните, у access iterators у `std::forward_list` нельзя делать `--it`, они только для хождения вперёд и только по одному шагу. А у `std::vector` можно вперёд-назад и на любое число шагов за раз. По этому принципу классифицируются итераторы доступа:\n",
    "* [Forward Iterator](https://en.cppreference.com/w/cpp/named_req/ForwardIterator)\n",
    "* [Bidirectional Iterator](https://en.cppreference.com/w/cpp/named_req/BidirectionalIterator)\n",
    "* [Random Access Iterator](https://en.cppreference.com/w/cpp/named_req/RandomAccessIterator)"
   ]
  },
  {
   "cell_type": "markdown",
   "metadata": {},
   "source": [
    "Классификация имеет важное значение для алгоритмов. Например, алгоритм сортировки работает только с Random Access Iterator:"
   ]
  },
  {
   "cell_type": "markdown",
   "metadata": {},
   "source": [
    "```c++\n",
    "std::vector<int> v = {20, 30, 10};\n",
    "std::sort(v.begin(), v.end());  // ok\n",
    "        \n",
    "std::list<int> l = {20, 30, 10};\n",
    "std::sort(l.begin(), l.end());  // compile-time error\n",
    "```"
   ]
  },
  {
   "cell_type": "markdown",
   "metadata": {},
   "source": [
    "И это отражено в требованиях к алгоритму:\n",
    "    \n",
    "https://en.cppreference.com/w/cpp/algorithm/sort"
   ]
  },
  {
   "cell_type": "markdown",
   "metadata": {},
   "source": [
    "Поэтому для `std::list` реализовали свой `sort`:\n",
    "\n",
    "https://en.cppreference.com/w/cpp/container/list/sort"
   ]
  },
  {
   "cell_type": "markdown",
   "metadata": {},
   "source": [
    "```c++\n",
    "std::list<int> l = {20, 30, 10};\n",
    "l.sort();\n",
    "```"
   ]
  },
  {
   "cell_type": "markdown",
   "metadata": {},
   "source": [
    "<br />"
   ]
  },
  {
   "cell_type": "markdown",
   "metadata": {},
   "source": [
    "Прочие типы итераторов:\n",
    "* [Input Iterator](https://en.cppreference.com/w/cpp/named_req/InputIterator)\n",
    "* [Output Iterator](https://en.cppreference.com/w/cpp/named_req/OutputIterator)\n",
    "* [Reverse Iterator](https://en.cppreference.com/w/cpp/iterator/reverse_iterator)"
   ]
  },
  {
   "cell_type": "markdown",
   "metadata": {},
   "source": [
    "##### reverse_iterator"
   ]
  },
  {
   "cell_type": "markdown",
   "metadata": {},
   "source": [
    "![](reverse_iterator.jpg)"
   ]
  },
  {
   "cell_type": "markdown",
   "metadata": {},
   "source": [
    "```c++\n",
    "std::vector<int> v = {10, 20, 30, 40};\n",
    "\n",
    "// сортировка по возрастанию:\n",
    "std::sort(v.begin(), v.end());\n",
    "        \n",
    "// сортировка по убыванию:\n",
    "std::sort(v.rbegin(), v.rend());\n",
    "```"
   ]
  },
  {
   "cell_type": "markdown",
   "metadata": {},
   "source": [
    "Конвертация iterator <-> reverse_iterator:\n",
    "\n",
    "Обратите внимание на перескакивание итератора на предыдущий элемент при конвертации."
   ]
  },
  {
   "cell_type": "markdown",
   "metadata": {},
   "source": [
    "```c++\n",
    "std::vector<int> v = {10, 20, 30, 40};\n",
    "        \n",
    "auto it = v.begin() + 2; // 30\n",
    "\n",
    "auto rit = std::make_reverse_iterator(it); // 20 !!!!\n",
    "++rit; // 10\n",
    "\n",
    "auto it2 = rit.base();  // 20 !!!!\n",
    "++it2; // 30\n",
    "```"
   ]
  },
  {
   "cell_type": "markdown",
   "metadata": {},
   "source": [
    "<br />"
   ]
  },
  {
   "cell_type": "markdown",
   "metadata": {},
   "source": [
    "#### Специфика итераторов в С++"
   ]
  },
  {
   "cell_type": "markdown",
   "metadata": {},
   "source": [
    "Формально, итератор - это класс, который обязан определить методы, требуемые его категорией. Других требований нет.\n",
    "\n",
    "Формально, итератор не обязан итерироваться по контейнерам или итерироваться вообще по чему либо. Итератор может делать любую работу.\n",
    "\n",
    "Напишем свой собственный итератор по... простым числам:\n",
    "\n",
    "```c++\n",
    "class PrimeNumbersIterator {\n",
    "private:\n",
    "    std::uint32_t index_ = 0;\n",
    "    std::uint32_t value_ = 2;\n",
    "    \n",
    "public:\n",
    "    PrimeNumbersIterator(const std::uint32_t index)\n",
    "        : index_(index)\n",
    "        , value_(get_nth_prime_number(index))\n",
    "    {}\n",
    "    \n",
    "    PrimeNumbersIterator(const PrimeNumbersIterator&) = default;\n",
    "    PrimeNumbersIterator(PrimeNumbersIterator&&) = default;\n",
    "    PrimeNumbersIterator& operator =(const PrimeNumbersIterator&) = default;\n",
    "    PrimeNumbersIterator& operator = (PrimeNumbersIterator&&) = default;\n",
    "    \n",
    "    // ++it\n",
    "    PrimeNumbersIterator& operator ++() {\n",
    "        switch_to_next_prime();\n",
    "        return *this;\n",
    "    }\n",
    "\n",
    "    // it++\n",
    "    PrimeNumbersIterator operator ++(int) {\n",
    "        PrimeNumbersIterator old = *this;\n",
    "        switch_to_next_prime();\n",
    "        return old;\n",
    "    }\n",
    "    \n",
    "    std::uint32_t operator *() const  {\n",
    "        return value_;\n",
    "    }\n",
    "    \n",
    "    std::uint32_t get_prime_number_index() const {\n",
    "        return index_;\n",
    "    }\n",
    "\n",
    "private:\n",
    "    void switch_to_next_prime() {\n",
    "        ++index;\n",
    "        do {\n",
    "            ++value_;\n",
    "        } while (!is_prime(value_));\n",
    "    }\n",
    "};\n",
    "\n",
    "bool operator == (const PrimeNumbersIterator& lhs,\n",
    "                  const PrimeNumbersIterator& rhs) {\n",
    "    return\n",
    "        lhs.get_prime_number_index() ==\n",
    "        rhs.get_prime_number_index();\n",
    "}\n",
    "\n",
    "bool operator != (const PrimeNumbersIterator& lhs,\n",
    "                  const PrimeNumbersIterator& rhs) {\n",
    "    return\n",
    "        lhs.get_prime_number_index() !=\n",
    "        rhs.get_prime_number_index();\n",
    "}\n",
    "\n",
    "\n",
    "// usage:\n",
    "PrimeNumbersIterator end(5);\n",
    "for (PrimeNumbersIterator it; it != end; ++it)\n",
    "    std::cout << *it;\n",
    "```"
   ]
  },
  {
   "cell_type": "markdown",
   "metadata": {},
   "source": [
    "<br />"
   ]
  },
  {
   "cell_type": "markdown",
   "metadata": {},
   "source": [
    "В стандартной библиотеке есть несколько классов итераторов, реализующих \"нестандартный\" подход:\n",
    "* `std::istream_iterator<T>` - читает из потока объекты типа T, пока поток не закончится\n",
    "* `std::ostream_iterator<T>` - выводит в потом объекты типа T через `operator <<`\n",
    "\n",
    "Мощь и безобразие итераторов в двух примерах:"
   ]
  },
  {
   "cell_type": "markdown",
   "metadata": {},
   "source": [
    "```c++\n",
    "std::istringstream str(\"0.1 0.2 0.3 0.4\");\n",
    "const double sum = std::accumulate(std::istream_iterator<double>(str),\n",
    "                                   std::istream_iterator<double>(),\n",
    "                                   0.);\n",
    "\n",
    "\n",
    "std::vector<int> v = {1, 2, 3, 4, 5};\n",
    "std::copy(v.begin(),\n",
    "          v.end(),\n",
    "          std::ostream_iterator<int>(std::cout, \" \"));\n",
    "\n",
    "```"
   ]
  },
  {
   "cell_type": "markdown",
   "metadata": {},
   "source": [
    "<br />"
   ]
  },
  {
   "cell_type": "markdown",
   "metadata": {},
   "source": [
    "**Задача**: найти последнее число 5 в последовательности, предшествующее первому 10"
   ]
  },
  {
   "cell_type": "markdown",
   "metadata": {},
   "source": [
    "Вариант решения:"
   ]
  },
  {
   "cell_type": "markdown",
   "metadata": {},
   "source": [
    "```c++\n",
    "template<typename It>\n",
    "It function(It begin, It end)\n",
    "{\n",
    "    auto it = std::find(begin, end, 10);\n",
    "    \n",
    "    if (it == end)\n",
    "        return end;  // no 10\n",
    "    \n",
    "    auto rit = std::find(std::make_reverse_iterator(it),\n",
    "                         std::make_reverse_iterator(begin),\n",
    "                         5);\n",
    "\n",
    "    if (rit == std::make_reverse_iterator(begin))\n",
    "        return end;  // no 5 before 10\n",
    "    \n",
    "    return std::prev(rit.base());    \n",
    "}\n",
    "\n",
    "std::list<int> l = {1, 2, 3, 5, 5, 10};\n",
    "auto it = function(l.begin(), l.end());\n",
    "auto rit = function(l.rbegin(), l.rend());\n",
    "```"
   ]
  }
 ],
 "metadata": {
  "kernelspec": {
   "display_name": "Python 3 (ipykernel)",
   "language": "python",
   "name": "python3"
  },
  "language_info": {
   "codemirror_mode": {
    "name": "ipython",
    "version": 3
   },
   "file_extension": ".py",
   "mimetype": "text/x-python",
   "name": "python",
   "nbconvert_exporter": "python",
   "pygments_lexer": "ipython3",
   "version": "3.12.3"
  }
 },
 "nbformat": 4,
 "nbformat_minor": 4
}
